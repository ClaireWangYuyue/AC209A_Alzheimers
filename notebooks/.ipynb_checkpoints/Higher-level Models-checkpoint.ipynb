{
 "cells": [
  {
   "cell_type": "markdown",
   "metadata": {},
   "source": [
    "## Neural Networks"
   ]
  },
  {
   "cell_type": "code",
   "execution_count": 1,
   "metadata": {
    "collapsed": true
   },
   "outputs": [],
   "source": [
    "import pandas as pd\n",
    "import numpy as np\n",
    "from sklearn.neural_network import MLPClassifier\n",
    "from sklearn.model_selection import GridSearchCV\n",
    "from sklearn.ensemble import RandomForestClassifier"
   ]
  },
  {
   "cell_type": "code",
   "execution_count": 2,
   "metadata": {
    "collapsed": true
   },
   "outputs": [],
   "source": [
    "# load data\n",
    "df_train = pd.read_csv(\"data/ADNIMERGE_train.csv\")\n",
    "df_test = pd.read_csv(\"data/ADNIMERGE_test.csv\")\n",
    "X_train = df_train.drop(['RID', 'DX_bl'], axis=1).copy()\n",
    "y_train = df_train['DX_bl'].copy()\n",
    "X_test = df_test.drop(['RID', 'DX_bl'], axis=1).copy()\n",
    "y_test = df_test['DX_bl'].copy()"
   ]
  },
  {
   "cell_type": "code",
   "execution_count": 3,
   "metadata": {
    "collapsed": true
   },
   "outputs": [],
   "source": [
    "# function to help compare the accuracy of models\n",
    "def score(model, X_train, y_train, X_test, y_test):\n",
    "    train_acc = model.score(X_train,y_train)\n",
    "    test_acc = model.score(X_test,y_test)\n",
    "    test_class0 = model.score(X_test[y_test==0], y_test[y_test==0])\n",
    "    test_class1 = model.score(X_test[y_test==1], y_test[y_test==1])\n",
    "    test_class2 = model.score(X_test[y_test==2], y_test[y_test==2])\n",
    "    return pd.Series([train_acc, test_acc, test_class0, test_class1, test_class2],\n",
    "                    index = ['Train accuracy', 'Test accuracy', \n",
    "                             \"Test accuracy CN\", \"Test accuracy CI\", \"Test accuracy AD\"])"
   ]
  },
  {
   "cell_type": "code",
   "execution_count": 4,
   "metadata": {
    "collapsed": true
   },
   "outputs": [],
   "source": [
    "# normalization\n",
    "cols_continuous = ['APOE4', 'CSF_ABETA', 'CSF_TAU',  'CSF_PTAU', \n",
    "                   'FDG', 'FDG_slope', 'AV45', 'AV45_slope',\n",
    "                   'ADAS13', 'ADAS13_slope', 'MMSE', 'MMSE_slope',\n",
    "                   'RAVLT_immediate', 'RAVLT_immediate_slope', 'RAVLT_learning',\n",
    "                   'RAVLT_learning_slope', 'RAVLT_forgetting', 'RAVLT_forgetting_slope',\n",
    "                   'RAVLT_perc_forgetting', 'RAVLT_perc_forgetting_slope', 'MOCA',\n",
    "                   'MOCA_slope', 'EcogPtMem', 'EcogPtMem_slope', 'EcogPtLang',\n",
    "                   'EcogPtLang_slope', 'EcogPtVisspat', 'EcogPtVisspat_slope',\n",
    "                   'EcogPtPlan', 'EcogPtPlan_slope', 'EcogPtOrgan', 'EcogPtOrgan_slope',\n",
    "                   'EcogPtDivatt', 'EcogPtDivatt_slope', 'EcogSPMem', 'EcogSPMem_slope',\n",
    "                   'EcogSPLang', 'EcogSPLang_slope', 'EcogSPVisspat',\n",
    "                   'EcogSPVisspat_slope', 'EcogSPPlan', 'EcogSPPlan_slope', 'EcogSPOrgan',\n",
    "                   'EcogSPOrgan_slope', 'EcogSPDivatt', 'EcogSPDivatt_slope', 'FAQ',\n",
    "                   'FAQ_slope', 'Ventricles', 'Ventricles_slope', 'Hippocampus',\n",
    "                   'Hippocampus_slope', 'WholeBrain', 'WholeBrain_slope', 'Entorhinal',\n",
    "                   'Entorhinal_slope', 'Fusiform', 'Fusiform_slope', 'MidTemp',\n",
    "                   'MidTemp_slope', 'ICV', 'ICV_slope']\n",
    "\n",
    "X_train_std = X_train.copy()\n",
    "X_test_std = X_test.copy()\n",
    "for i in cols_continuous:\n",
    "    col_mean = np.mean(X_train_std[i])\n",
    "    col_sd = np.std(X_train_std[i])\n",
    "    if col_sd < 1e-10*col_mean:\n",
    "        X_train_std.loc[i] = (X_train_std[i]-col_mean)/col_sd\n",
    "        X_test_std.loc[i] = (X_test_std[i]-col_mean)/col_sd"
   ]
  },
  {
   "cell_type": "code",
   "execution_count": 5,
   "metadata": {},
   "outputs": [
    {
     "name": "stdout",
     "output_type": "stream",
     "text": [
      "Optimal parameters\n",
      "L2 penalty parameter:  0.001\n",
      "Number of neurons in the hidden layer:  (100, 25)\n",
      "\n",
      "-----------------\n",
      "\n",
      "Training accuracy:  0.573268921095\n",
      "Test accuracy:  0.567901234568\n"
     ]
    }
   ],
   "source": [
    "# find the best parameters\n",
    "parameters = {'alpha': [1e-7, 1e-6, 1e-5, 1e-4, 1e-3, 1e-2, 1e-1],\n",
    "              'hidden_layer_sizes': [(50, 3), (50, 10), (50, 25), (50, 50),\n",
    "                                     (100, 3), (100, 10), (100, 25), (100, 50),\n",
    "                                     (300, 3), (300, 10), (300, 25), (300, 50),\n",
    "                                     (500, 3), (500, 10), (500, 25), (500, 50)]}\n",
    "mlp = MLPClassifier(solver = 'lbfgs', activation='logistic', random_state=9001)\n",
    "mlp_cv = GridSearchCV(mlp, parameters)\n",
    "mlp_cv.fit(X_train_std, y_train)\n",
    "best_score = np.argmax(mlp_cv.cv_results_['mean_test_score'])\n",
    "result = mlp_cv.cv_results_['params'][best_score]\n",
    "a = result['alpha']\n",
    "hidden_layer = result['hidden_layer_sizes']\n",
    "mlp = MLPClassifier(solver = 'lbfgs', activation='logistic', random_state=9001,\n",
    "                    alpha = a, hidden_layer_sizes=hidden_layer)\n",
    "mlp.fit(X_train_std, y_train)\n",
    "print(\"Optimal parameters\")\n",
    "print(\"L2 penalty parameter: \", a)\n",
    "print(\"Number of neurons in the hidden layer: \", hidden_layer)\n",
    "print('\\n-----------------\\n')\n",
    "print(\"Training accuracy: \", mlp.score(X_train_std, y_train))\n",
    "print(\"Test accuracy: \", mlp.score(X_test_std, y_test))\n",
    "nn_score = score(mlp, X_train_std, y_train, X_test_std, y_test)"
   ]
  },
  {
   "cell_type": "code",
   "execution_count": 6,
   "metadata": {
    "collapsed": true
   },
   "outputs": [],
   "source": [
    "# random forest to compare with\n",
    "rf_best = RandomForestClassifier(n_estimators=32, max_depth=6, random_state=9001)\n",
    "rf_best.fit(X_train, y_train)\n",
    "rf_score = score(rf_best, X_train, y_train, X_test, y_test)"
   ]
  },
  {
   "cell_type": "code",
   "execution_count": 7,
   "metadata": {},
   "outputs": [
    {
     "data": {
      "text/html": [
       "<div>\n",
       "<style>\n",
       "    .dataframe thead tr:only-child th {\n",
       "        text-align: right;\n",
       "    }\n",
       "\n",
       "    .dataframe thead th {\n",
       "        text-align: left;\n",
       "    }\n",
       "\n",
       "    .dataframe tbody tr th {\n",
       "        vertical-align: top;\n",
       "    }\n",
       "</style>\n",
       "<table border=\"1\" class=\"dataframe\">\n",
       "  <thead>\n",
       "    <tr style=\"text-align: right;\">\n",
       "      <th></th>\n",
       "      <th>Neural Network</th>\n",
       "      <th>Random Forest</th>\n",
       "    </tr>\n",
       "  </thead>\n",
       "  <tbody>\n",
       "    <tr>\n",
       "      <th>Train accuracy</th>\n",
       "      <td>0.573269</td>\n",
       "      <td>0.921095</td>\n",
       "    </tr>\n",
       "    <tr>\n",
       "      <th>Test accuracy</th>\n",
       "      <td>0.567901</td>\n",
       "      <td>0.783951</td>\n",
       "    </tr>\n",
       "    <tr>\n",
       "      <th>Test accuracy CN</th>\n",
       "      <td>0.000000</td>\n",
       "      <td>0.500000</td>\n",
       "    </tr>\n",
       "    <tr>\n",
       "      <th>Test accuracy CI</th>\n",
       "      <td>0.989247</td>\n",
       "      <td>0.892473</td>\n",
       "    </tr>\n",
       "    <tr>\n",
       "      <th>Test accuracy AD</th>\n",
       "      <td>0.000000</td>\n",
       "      <td>0.851852</td>\n",
       "    </tr>\n",
       "  </tbody>\n",
       "</table>\n",
       "</div>"
      ],
      "text/plain": [
       "                  Neural Network  Random Forest\n",
       "Train accuracy          0.573269       0.921095\n",
       "Test accuracy           0.567901       0.783951\n",
       "Test accuracy CN        0.000000       0.500000\n",
       "Test accuracy CI        0.989247       0.892473\n",
       "Test accuracy AD        0.000000       0.851852"
      ]
     },
     "execution_count": 7,
     "metadata": {},
     "output_type": "execute_result"
    }
   ],
   "source": [
    "score_df = pd.DataFrame({\"Neural Network\": nn_score,\n",
    "                         \"Random Forest\": rf_score})\n",
    "score_df"
   ]
  },
  {
   "cell_type": "code",
   "execution_count": null,
   "metadata": {
    "collapsed": true
   },
   "outputs": [],
   "source": []
  }
 ],
 "metadata": {
  "kernelspec": {
   "display_name": "Python 3",
   "language": "python",
   "name": "python3"
  },
  "language_info": {
   "codemirror_mode": {
    "name": "ipython",
    "version": 3
   },
   "file_extension": ".py",
   "mimetype": "text/x-python",
   "name": "python",
   "nbconvert_exporter": "python",
   "pygments_lexer": "ipython3",
   "version": "3.5.4"
  }
 },
 "nbformat": 4,
 "nbformat_minor": 2
}
